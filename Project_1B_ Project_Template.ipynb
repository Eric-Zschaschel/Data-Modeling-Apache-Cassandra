{
 "cells": [
  {
   "cell_type": "markdown",
   "metadata": {
    "editable": true
   },
   "source": [
    "# ETL Pipeline"
   ]
  },
  {
   "cell_type": "markdown",
   "metadata": {
    "editable": true
   },
   "source": [
    "The Goal of this script is to create a non-relational database and ETL pipeline for a music streaming app. \n",
    "Its tables should be able to answer queries with in the following form:   \n",
    "* Give me the artist, song title and song's length in the music app history that was heard   \n",
    "during  sessionId = 338, and itemInSession  = 4\n",
    "* Give me only the following: name of artist, song (sorted by itemInSession) and user (first   \n",
    "and last name) for userid = 10, sessionid = 182\n",
    "* Give me every user name (first and last) in my music app history who listened to the song    \n",
    "'All Hands Against His Own'   \n"
   ]
  },
  {
   "cell_type": "markdown",
   "metadata": {
    "editable": true
   },
   "source": [
    "## #1 Preparing Files"
   ]
  },
  {
   "cell_type": "code",
   "execution_count": 2,
   "metadata": {
    "editable": true
   },
   "outputs": [],
   "source": [
    "import pandas as pd\n",
    "import cassandra\n",
    "import re\n",
    "import os\n",
    "import glob\n",
    "import numpy as np\n",
    "import json\n",
    "import csv\n",
    "from typing import Iterator, Dict, Any, Optional"
   ]
  },
  {
   "cell_type": "code",
   "execution_count": 3,
   "metadata": {
    "editable": true
   },
   "outputs": [
    {
     "name": "stdout",
     "output_type": "stream",
     "text": [
      "/home/workspace\n"
     ]
    }
   ],
   "source": [
    "print(os.getcwd())\n",
    "filepath = os.getcwd() + '/event_data'\n",
    "for root, dirs, files in os.walk(filepath):\n",
    "    file_path_list = glob.glob(os.path.join(root,'*'))\n",
    "    #print(file_path_list)"
   ]
  },
  {
   "cell_type": "code",
   "execution_count": 4,
   "metadata": {
    "editable": true
   },
   "outputs": [],
   "source": [
    "full_data_rows_list = [] \n",
    "for f in file_path_list:\n",
    "    with open(f, 'r', encoding = 'utf8', newline='') as csvfile: \n",
    "        csvreader = csv.reader(csvfile) \n",
    "        next(csvreader)\n",
    "             \n",
    "        for line in csvreader:\n",
    "            #print(line)\n",
    "            full_data_rows_list.append(line) \n",
    "            \n",
    "\n",
    "#print(len(full_data_rows_list)) # total number of rows \n",
    "#print(full_data_rows_list) # preview list of data rows\n",
    "# creating a smaller event data csv file called event_datafile_full csv that will be used to insert data into the \\\n",
    "# Apache Cassandra tables\n",
    "csv.register_dialect('myDialect', quoting=csv.QUOTE_ALL, skipinitialspace=True)\n",
    "\n",
    "with open('event_datafile_new.csv', 'w', encoding = 'utf8', newline='') as f:\n",
    "    writer = csv.writer(f, dialect='myDialect')\n",
    "    writer.writerow(['artist','firstName','gender','itemInSession','lastName','length',\\\n",
    "                'level','location','sessionId','song','userId'])\n",
    "    for row in full_data_rows_list:\n",
    "        if (row[0] == ''):\n",
    "            continue\n",
    "        writer.writerow((row[0], row[2], row[3], row[4], row[5], row[6], row[7], row[8], row[12], row[13], row[16]))\n"
   ]
  },
  {
   "cell_type": "code",
   "execution_count": 5,
   "metadata": {
    "editable": true
   },
   "outputs": [
    {
     "name": "stdout",
     "output_type": "stream",
     "text": [
      "6821\n"
     ]
    }
   ],
   "source": [
    "# check the number of rows in csv file\n",
    "with open('event_datafile_new.csv', 'r', encoding = 'utf8') as f:\n",
    "    print(sum(1 for line in f))"
   ]
  },
  {
   "cell_type": "markdown",
   "metadata": {
    "editable": true
   },
   "source": [
    "## #2 Preparing Keyspace"
   ]
  },
  {
   "cell_type": "code",
   "execution_count": 6,
   "metadata": {
    "editable": true
   },
   "outputs": [],
   "source": [
    "from cassandra.cluster import Cluster\n",
    "cluster = Cluster()\n",
    "session = cluster.connect()\n",
    "\n",
    "try:\n",
    "    session.execute(\"\"\"\n",
    "    CREATE KEYSPACE IF NOT EXISTS udacity \n",
    "    WITH REPLICATION = \n",
    "    { 'class' : 'SimpleStrategy', 'replication_factor' : 1 }\n",
    "    \"\"\")\n",
    "except Exception as e:\n",
    "    print(e)\n",
    "    \n",
    "try:\n",
    "    session.set_keyspace('udacity')\n",
    "except Exception as e:\n",
    "    print(e)"
   ]
  },
  {
   "cell_type": "markdown",
   "metadata": {
    "editable": true
   },
   "source": [
    "#### Handling queries efficiently"
   ]
  },
  {
   "cell_type": "code",
   "execution_count": 7,
   "metadata": {
    "editable": true
   },
   "outputs": [],
   "source": [
    "def cql(query: str) -> None:\n",
    "    \"\"\"Query handling\"\"\"\n",
    "    try:\n",
    "        session.execute(query)\n",
    "    except Exception as e:\n",
    "        print(e)"
   ]
  },
  {
   "cell_type": "markdown",
   "metadata": {
    "editable": true
   },
   "source": [
    "## #3 Creating Tables and Processing Data"
   ]
  },
  {
   "cell_type": "markdown",
   "metadata": {
    "editable": true
   },
   "source": [
    "In the following sections I will design a table to answer one of the queries mentioned at the beginning.\n",
    "Therefore the following steps apply:\n",
    "* translating the questions into cql\n",
    "* designing tables on the basis of those queries\n",
    "* inserting the data from csv into those tables\n",
    "* validating the data by answering the example tasks mentioned above.\n"
   ]
  },
  {
   "cell_type": "markdown",
   "metadata": {
    "editable": true
   },
   "source": [
    "### Query1\n",
    "Give me the artist, song title and song's length in the music app history that was heard during sessionId = 338, and itemInSession = 4\n",
    "\n",
    "Translation in to CQL:\n",
    "* `SELECT sessionId, itemInSession, artist, song, length FROM session_songs   \n",
    "  WHERE sessionId = 338 AND itemInSession = 4 LIMIT 10`\n",
    "\n",
    "\n",
    "Description of the query\n",
    "* `sessionId` and `itemInSession` are included in the WHERE statement therefore they must be part of the PRIMARY KEY.   \n",
    "* together they make a row unique --> no additional columns needed inside the PRIMARY KEY\n",
    "* if only `sessionId` would be partition key that could lead to an uneven distribution as some sessions may be longer than others\n",
    "* therefore both of them should serve as partition key\n",
    "* `sessionId` and `itemInSession` must come first in the CREATE, INSERT and SELECT statements,   \n",
    "  otherwise it will have consequences for the READ performance."
   ]
  },
  {
   "cell_type": "code",
   "execution_count": 15,
   "metadata": {
    "editable": true
   },
   "outputs": [
    {
     "data": {
      "text/html": [
       "<div>\n",
       "<style scoped>\n",
       "    .dataframe tbody tr th:only-of-type {\n",
       "        vertical-align: middle;\n",
       "    }\n",
       "\n",
       "    .dataframe tbody tr th {\n",
       "        vertical-align: top;\n",
       "    }\n",
       "\n",
       "    .dataframe thead th {\n",
       "        text-align: right;\n",
       "    }\n",
       "</style>\n",
       "<table border=\"1\" class=\"dataframe\">\n",
       "  <thead>\n",
       "    <tr style=\"text-align: right;\">\n",
       "      <th></th>\n",
       "      <th>artist</th>\n",
       "      <th>song</th>\n",
       "      <th>length</th>\n",
       "    </tr>\n",
       "  </thead>\n",
       "  <tbody>\n",
       "    <tr>\n",
       "      <th>0</th>\n",
       "      <td>Faithless</td>\n",
       "      <td>Music Matters (Mark Knight Dub)</td>\n",
       "      <td>495.3073</td>\n",
       "    </tr>\n",
       "  </tbody>\n",
       "</table>\n",
       "</div>"
      ],
      "text/plain": [
       "      artist                             song    length\n",
       "0  Faithless  Music Matters (Mark Knight Dub)  495.3073"
      ]
     },
     "execution_count": 15,
     "metadata": {},
     "output_type": "execute_result"
    }
   ],
   "source": [
    "# create table\n",
    "cql(\"\"\"DROP TABLE IF EXISTS session_songs; \"\"\")\n",
    "cql(\"\"\"CREATE TABLE session_songs (\n",
    "    sessionId INT,\n",
    "    itemInSession INT,\n",
    "    artist TEXT,\n",
    "    song TEXT,\n",
    "    length DOUBLE,\n",
    "    PRIMARY KEY ((sessionId, itemInSession))\n",
    "    )\"\"\")\n",
    "\n",
    "\n",
    "\n",
    "# insert data\n",
    "file = 'event_datafile_new.csv'\n",
    "with open(file, encoding = 'utf8') as f:\n",
    "    csvreader = csv.reader(f)\n",
    "    next(csvreader) # skip header\n",
    "    for line in csvreader:\n",
    "        query = \"\"\"INSERT INTO session_songs (sessionId, itemInSession, artist, song, length)\n",
    "                VALUES (%s, %s, %s, %s, %s)\"\"\"\n",
    "        #Each row read from the csv file is returned as a list of strings No automatic data type conversion is performed\n",
    "        session.execute(query, (int(line[8]), int(line[3]), line[0], line[9], float(line[5])))\n",
    "\n",
    "        \n",
    "    \n",
    "# validate data\n",
    "#code integrated from here: https://stackoverflow.com/a/41484806/13560354\n",
    "def pandas_factory(colnames, rows):\n",
    "    return pd.DataFrame(rows, columns=colnames)\n",
    "\n",
    "## The format to return row results. By default, each returned row will be a named tuple.\n",
    "session.row_factory = pandas_factory\n",
    "\n",
    "##By default, this many rows will be fetched at a time. Setting this to None will disable automatic paging for large query results\n",
    "session.default_fetch_size = None\n",
    "\n",
    "query = \"\"\"SELECT sessionId, itemInSession, artist, song, length \n",
    "        FROM session_songs WHERE sessionId = 338 AND itemInSession = 4 LIMIT 10\"\"\"\n",
    "results = session.execute(query, timeout=None)\n",
    "\n",
    "##The list of current page rows. May be empty if the result was empty, or this is the last page.\n",
    "df1 = results._current_rows\n",
    "df1[['artist', 'song', 'length']].head()\n"
   ]
  },
  {
   "cell_type": "markdown",
   "metadata": {
    "editable": true
   },
   "source": [
    "### Query2\n",
    "Give me only the following: name of artist, song (sorted by itemInSession) and user (first and last name) for userid = 10, sessionid = 182\n",
    "\n",
    "Translation in to CQL:\n",
    "* `SELECT sessionId, userId, itemInSession, artist, song,   \n",
    "  firstName, lastName FROM user_session_songs   \n",
    "  WHERE sessionId = 182 AND userId = 10`\n",
    "\n",
    "* with `sessionId` and `userId` as partition key   \n",
    "    and `itemInSession` as clustering column\n",
    "\n",
    "\n",
    "Description of the query\n",
    "* `sessionId` and `userId` are included in the WHERE statement therefore they must be part of the PRIMARY KEY   \n",
    "* The result has to be ordered by `itemInSession`, therefore this will become the clustering column\n",
    "* `sessionId, userId, itemInSession` make a row unique --> no additional columns needed for the PRIMARY KEY\n",
    "* Again, if only `sessionId` would be partition key that could lead to an uneven distribution as some sessions may be longer than others\n",
    "* Therefore `sessionId` and `userId` together serve as partition key for a more even distribution\n",
    "\n",
    "* `sessionId, userId, itemInSession` must come first in the CREATE, INSERT and SELECT statements,   \n",
    "  as otherwise it will have consequences for the READ performance"
   ]
  },
  {
   "cell_type": "code",
   "execution_count": 31,
   "metadata": {
    "editable": true
   },
   "outputs": [
    {
     "data": {
      "text/html": [
       "<div>\n",
       "<style scoped>\n",
       "    .dataframe tbody tr th:only-of-type {\n",
       "        vertical-align: middle;\n",
       "    }\n",
       "\n",
       "    .dataframe tbody tr th {\n",
       "        vertical-align: top;\n",
       "    }\n",
       "\n",
       "    .dataframe thead th {\n",
       "        text-align: right;\n",
       "    }\n",
       "</style>\n",
       "<table border=\"1\" class=\"dataframe\">\n",
       "  <thead>\n",
       "    <tr style=\"text-align: right;\">\n",
       "      <th></th>\n",
       "      <th>artist</th>\n",
       "      <th>song</th>\n",
       "      <th>firstname</th>\n",
       "      <th>lastname</th>\n",
       "    </tr>\n",
       "  </thead>\n",
       "  <tbody>\n",
       "    <tr>\n",
       "      <th>0</th>\n",
       "      <td>Down To The Bone</td>\n",
       "      <td>Keep On Keepin' On</td>\n",
       "      <td>Sylvie</td>\n",
       "      <td>Cruz</td>\n",
       "    </tr>\n",
       "    <tr>\n",
       "      <th>1</th>\n",
       "      <td>Three Drives</td>\n",
       "      <td>Greece 2000</td>\n",
       "      <td>Sylvie</td>\n",
       "      <td>Cruz</td>\n",
       "    </tr>\n",
       "    <tr>\n",
       "      <th>2</th>\n",
       "      <td>Sebastien Tellier</td>\n",
       "      <td>Kilometer</td>\n",
       "      <td>Sylvie</td>\n",
       "      <td>Cruz</td>\n",
       "    </tr>\n",
       "    <tr>\n",
       "      <th>3</th>\n",
       "      <td>Lonnie Gordon</td>\n",
       "      <td>Catch You Baby (Steve Pitron &amp; Max Sanna Radio...</td>\n",
       "      <td>Sylvie</td>\n",
       "      <td>Cruz</td>\n",
       "    </tr>\n",
       "  </tbody>\n",
       "</table>\n",
       "</div>"
      ],
      "text/plain": [
       "              artist                                               song  \\\n",
       "0   Down To The Bone                                 Keep On Keepin' On   \n",
       "1       Three Drives                                        Greece 2000   \n",
       "2  Sebastien Tellier                                          Kilometer   \n",
       "3      Lonnie Gordon  Catch You Baby (Steve Pitron & Max Sanna Radio...   \n",
       "\n",
       "  firstname lastname  \n",
       "0    Sylvie     Cruz  \n",
       "1    Sylvie     Cruz  \n",
       "2    Sylvie     Cruz  \n",
       "3    Sylvie     Cruz  "
      ]
     },
     "execution_count": 31,
     "metadata": {},
     "output_type": "execute_result"
    }
   ],
   "source": [
    "# create table\n",
    "cql(\"\"\"DROP TABLE IF EXISTS user_session_songs; \"\"\")\n",
    "cql(\"\"\"CREATE TABLE user_session_songs (\n",
    "    sessionId INT,\n",
    "    userId INT,\n",
    "    itemInSession INT,\n",
    "    artist TEXT,\n",
    "    song TEXT,\n",
    "    firstName TEXT,\n",
    "    lastName TEXT,\n",
    "    PRIMARY KEY ((sessionId, userId), itemInSession))\n",
    "    \"\"\")\n",
    "\n",
    "\n",
    "# insert data\n",
    "file = 'event_datafile_new.csv'\n",
    "with open(file, encoding = 'utf8') as f:\n",
    "    csvreader = csv.reader(f)\n",
    "    next(csvreader) # skip header\n",
    "    for line in csvreader:\n",
    "        query = \"\"\"INSERT INTO user_session_songs (sessionId, userId, itemInSession, artist, song, firstName, lastName)\n",
    "                VALUES (%s, %s, %s, %s, %s, %s, %s)\"\"\"\n",
    "        session.execute(query, (int(line[8]), int(line[10]), int(line[3]), line[0], line[9], line[1], line[4]))\n",
    "\n",
    "        \n",
    "# validate data\n",
    "session.row_factory = pandas_factory\n",
    "session.default_fetch_size = None\n",
    "query = \"\"\"SELECT sessionId, userId, itemInSession, artist, song, firstName, lastName\n",
    "        FROM user_session_songs WHERE sessionId = 182 AND userId = 10\"\"\"\n",
    "results = session.execute(query, timeout=None)\n",
    "df2 = results._current_rows\n",
    "df2[['artist', 'song', 'firstname', 'lastname']].head()\n"
   ]
  },
  {
   "cell_type": "code",
   "execution_count": 16,
   "metadata": {
    "editable": true
   },
   "outputs": [
    {
     "data": {
      "text/html": [
       "<div>\n",
       "<style scoped>\n",
       "    .dataframe tbody tr th:only-of-type {\n",
       "        vertical-align: middle;\n",
       "    }\n",
       "\n",
       "    .dataframe tbody tr th {\n",
       "        vertical-align: top;\n",
       "    }\n",
       "\n",
       "    .dataframe thead th {\n",
       "        text-align: right;\n",
       "    }\n",
       "</style>\n",
       "<table border=\"1\" class=\"dataframe\">\n",
       "  <thead>\n",
       "    <tr style=\"text-align: right;\">\n",
       "      <th></th>\n",
       "      <th>artist</th>\n",
       "      <th>song</th>\n",
       "      <th>firstname</th>\n",
       "      <th>lastname</th>\n",
       "    </tr>\n",
       "  </thead>\n",
       "  <tbody>\n",
       "    <tr>\n",
       "      <th>0</th>\n",
       "      <td>Down To The Bone</td>\n",
       "      <td>Keep On Keepin' On</td>\n",
       "      <td>Sylvie</td>\n",
       "      <td>Cruz</td>\n",
       "    </tr>\n",
       "    <tr>\n",
       "      <th>1</th>\n",
       "      <td>Three Drives</td>\n",
       "      <td>Greece 2000</td>\n",
       "      <td>Sylvie</td>\n",
       "      <td>Cruz</td>\n",
       "    </tr>\n",
       "    <tr>\n",
       "      <th>2</th>\n",
       "      <td>Sebastien Tellier</td>\n",
       "      <td>Kilometer</td>\n",
       "      <td>Sylvie</td>\n",
       "      <td>Cruz</td>\n",
       "    </tr>\n",
       "    <tr>\n",
       "      <th>3</th>\n",
       "      <td>Lonnie Gordon</td>\n",
       "      <td>Catch You Baby (Steve Pitron &amp; Max Sanna Radio...</td>\n",
       "      <td>Sylvie</td>\n",
       "      <td>Cruz</td>\n",
       "    </tr>\n",
       "  </tbody>\n",
       "</table>\n",
       "</div>"
      ],
      "text/plain": [
       "              artist                                               song  \\\n",
       "0   Down To The Bone                                 Keep On Keepin' On   \n",
       "1       Three Drives                                        Greece 2000   \n",
       "2  Sebastien Tellier                                          Kilometer   \n",
       "3      Lonnie Gordon  Catch You Baby (Steve Pitron & Max Sanna Radio...   \n",
       "\n",
       "  firstname lastname  \n",
       "0    Sylvie     Cruz  \n",
       "1    Sylvie     Cruz  \n",
       "2    Sylvie     Cruz  \n",
       "3    Sylvie     Cruz  "
      ]
     },
     "execution_count": 16,
     "metadata": {},
     "output_type": "execute_result"
    }
   ],
   "source": [
    "# create table\n",
    "cql(\"\"\"DROP TABLE IF EXISTS user_session_songs; \"\"\")\n",
    "cql(\"\"\"CREATE TABLE user_session_songs (\n",
    "    sessionId INT,\n",
    "    userId INT,\n",
    "    itemInSession INT,\n",
    "    artist TEXT,\n",
    "    song TEXT,\n",
    "    firstName TEXT,\n",
    "    lastName TEXT,\n",
    "    PRIMARY KEY ((sessionId), itemInSession))\n",
    "    \"\"\")\n",
    "\n",
    "\n",
    "# insert data\n",
    "file = 'event_datafile_new.csv'\n",
    "with open(file, encoding = 'utf8') as f:\n",
    "    csvreader = csv.reader(f)\n",
    "    next(csvreader) # skip header\n",
    "    for line in csvreader:\n",
    "        query = \"\"\"INSERT INTO user_session_songs (sessionId, userId, itemInSession, artist, song, firstName, lastName)\n",
    "                VALUES (%s, %s, %s, %s, %s, %s, %s)\"\"\"\n",
    "        session.execute(query, (int(line[8]), int(line[10]), int(line[3]), line[0], line[9], line[1], line[4]))\n",
    "\n",
    "        \n",
    "# validate data\n",
    "session.row_factory = pandas_factory\n",
    "session.default_fetch_size = None\n",
    "query = \"\"\"SELECT sessionId, userId, itemInSession, artist, song, firstName, lastName\n",
    "        FROM user_session_songs WHERE sessionId = 182\"\"\"\n",
    "results = session.execute(query, timeout=None)\n",
    "df2 = results._current_rows\n",
    "df2[['artist', 'song', 'firstname', 'lastname']].head()\n"
   ]
  },
  {
   "cell_type": "markdown",
   "metadata": {
    "editable": true
   },
   "source": [
    "### Query3\n",
    "Give me every user name (first and last) in my music app history who listened to the song 'All Hands Against His Own'\n",
    "\n",
    "Translation in to CQL:\n",
    "* `SELECT * FROM song_popularity WHERE song = 'All Hands Against His Own' `\n",
    "\n",
    "* with `song` as partition key and `userId` as clustering column\n",
    "\n",
    "Description of the query\n",
    "* `song` is included in the WHERE statement therefore it must be part of the PRIMARY KEY   \n",
    "* `song` alone does not make the primary key unique --> additional columns needed\n",
    "    * `userId` would make more specific but a user can listen to the same song in different sessions\n",
    "    * `sessionId, itemInSession` would make it unique as a sessionId has only one distinct user   \n",
    "      and it would stay unique even if that user wants to hear a song twice in that session\n",
    "* therefore will `song` serve as partition key\n",
    "* and `sessionId, itemInSession` serve as clustering columns\n",
    "\n",
    "* The result has to be ordered by `itemInSession`, therefore this will become the clustering column\n",
    "* `sessionId, userId, itemInSession` make a row unique --> no additional columns needed for the PRIMARY KEY\n",
    "* Again, if only `sessionId` would be partition key that could lead to an uneven distribution as some sessions may be longer than others\n",
    "* Therefore `sessionId` and `userId` together serve as partition key\n",
    "\n",
    "* `sessionId, userId, itemInSession` must come first in the CREATE, INSERT and SELECT statements,   \n",
    "  as otherwise it will have consequences for the READ performance"
   ]
  },
  {
   "cell_type": "code",
   "execution_count": 9,
   "metadata": {
    "editable": true
   },
   "outputs": [
    {
     "data": {
      "text/html": [
       "<div>\n",
       "<style scoped>\n",
       "    .dataframe tbody tr th:only-of-type {\n",
       "        vertical-align: middle;\n",
       "    }\n",
       "\n",
       "    .dataframe tbody tr th {\n",
       "        vertical-align: top;\n",
       "    }\n",
       "\n",
       "    .dataframe thead th {\n",
       "        text-align: right;\n",
       "    }\n",
       "</style>\n",
       "<table border=\"1\" class=\"dataframe\">\n",
       "  <thead>\n",
       "    <tr style=\"text-align: right;\">\n",
       "      <th></th>\n",
       "      <th>firstname</th>\n",
       "      <th>lastname</th>\n",
       "    </tr>\n",
       "  </thead>\n",
       "  <tbody>\n",
       "    <tr>\n",
       "      <th>0</th>\n",
       "      <td>Jacqueline</td>\n",
       "      <td>Lynch</td>\n",
       "    </tr>\n",
       "    <tr>\n",
       "      <th>1</th>\n",
       "      <td>Tegan</td>\n",
       "      <td>Levine</td>\n",
       "    </tr>\n",
       "    <tr>\n",
       "      <th>2</th>\n",
       "      <td>Sara</td>\n",
       "      <td>Johnson</td>\n",
       "    </tr>\n",
       "  </tbody>\n",
       "</table>\n",
       "</div>"
      ],
      "text/plain": [
       "    firstname lastname\n",
       "0  Jacqueline    Lynch\n",
       "1       Tegan   Levine\n",
       "2        Sara  Johnson"
      ]
     },
     "execution_count": 9,
     "metadata": {},
     "output_type": "execute_result"
    }
   ],
   "source": [
    "# create table\n",
    "cql(\"\"\"DROP TABLE IF EXISTS song_popularity; \"\"\")\n",
    "cql(\"\"\"CREATE TABLE song_popularity (\n",
    "    song TEXT,\n",
    "    sessionId INT,\n",
    "    itemInSession INT,\n",
    "    lastName TEXT,\n",
    "    firstName TEXT,\n",
    "    PRIMARY KEY (song, sessionId, itemInSession)\n",
    "    )\"\"\")\n",
    "\n",
    "# insert data\n",
    "file = 'event_datafile_new.csv'\n",
    "with open(file, encoding = 'utf8') as f:\n",
    "    csvreader = csv.reader(f)\n",
    "    next(csvreader) # skip header\n",
    "    for line in csvreader:\n",
    "        query = \"\"\"INSERT INTO song_popularity (song, sessionId, itemInSession, lastName, firstName)\n",
    "                VALUES (%s, %s, %s, %s)\"\"\"\n",
    "        session.execute(query, (line[9], int(line[10]), line[4], line[1]))\n",
    "\n",
    "# validate data\n",
    "session.row_factory = pandas_factory\n",
    "session.default_fetch_size = None\n",
    "query = \"SELECT * FROM song_popularity WHERE song = 'All Hands Against His Own' \"\n",
    "results = session.execute(query, timeout=None)\n",
    "df3 = results._current_rows\n",
    "df3[['firstname', 'lastname']].head()\n"
   ]
  },
  {
   "cell_type": "markdown",
   "metadata": {
    "editable": true
   },
   "source": [
    "### Dropping the tables and closing the session"
   ]
  },
  {
   "cell_type": "code",
   "execution_count": 1,
   "metadata": {
    "editable": true
   },
   "outputs": [
    {
     "ename": "NameError",
     "evalue": "name 'cql' is not defined",
     "output_type": "error",
     "traceback": [
      "\u001b[0;31m---------------------------------------------------------------------------\u001b[0m",
      "\u001b[0;31mNameError\u001b[0m                                 Traceback (most recent call last)",
      "\u001b[0;32m<ipython-input-1-cbb3135d47e1>\u001b[0m in \u001b[0;36m<module>\u001b[0;34m()\u001b[0m\n\u001b[0;32m----> 1\u001b[0;31m \u001b[0mcql\u001b[0m\u001b[0;34m(\u001b[0m\u001b[0;34m\"\"\"DROP TABLE IF EXISTS session_songs; \"\"\"\u001b[0m\u001b[0;34m)\u001b[0m\u001b[0;34m\u001b[0m\u001b[0m\n\u001b[0m\u001b[1;32m      2\u001b[0m \u001b[0mcql\u001b[0m\u001b[0;34m(\u001b[0m\u001b[0;34m\"\"\"DROP TABLE IF EXISTS user_session_songs; \"\"\"\u001b[0m\u001b[0;34m)\u001b[0m\u001b[0;34m\u001b[0m\u001b[0m\n\u001b[1;32m      3\u001b[0m \u001b[0mcql\u001b[0m\u001b[0;34m(\u001b[0m\u001b[0;34m\"\"\"DROP TABLE IF EXISTS song_popularity; \"\"\"\u001b[0m\u001b[0;34m)\u001b[0m\u001b[0;34m\u001b[0m\u001b[0m\n\u001b[1;32m      4\u001b[0m \u001b[0msession\u001b[0m\u001b[0;34m.\u001b[0m\u001b[0mshutdown\u001b[0m\u001b[0;34m(\u001b[0m\u001b[0;34m)\u001b[0m\u001b[0;34m\u001b[0m\u001b[0m\n\u001b[1;32m      5\u001b[0m \u001b[0mcluster\u001b[0m\u001b[0;34m.\u001b[0m\u001b[0mshutdown\u001b[0m\u001b[0;34m(\u001b[0m\u001b[0;34m)\u001b[0m\u001b[0;34m\u001b[0m\u001b[0m\n",
      "\u001b[0;31mNameError\u001b[0m: name 'cql' is not defined"
     ]
    }
   ],
   "source": [
    "cql(\"\"\"DROP TABLE IF EXISTS session_songs; \"\"\")\n",
    "cql(\"\"\"DROP TABLE IF EXISTS user_session_songs; \"\"\")\n",
    "cql(\"\"\"DROP TABLE IF EXISTS song_popularity; \"\"\")\n",
    "session.shutdown()\n",
    "cluster.shutdown()"
   ]
  },
  {
   "cell_type": "code",
   "execution_count": null,
   "metadata": {
    "editable": true
   },
   "outputs": [],
   "source": []
  }
 ],
 "metadata": {
  "kernelspec": {
   "display_name": "Python 3",
   "language": "python",
   "name": "python3"
  },
  "language_info": {
   "codemirror_mode": {
    "name": "ipython",
    "version": 3
   },
   "file_extension": ".py",
   "mimetype": "text/x-python",
   "name": "python",
   "nbconvert_exporter": "python",
   "pygments_lexer": "ipython3",
   "version": "3.6.3"
  }
 },
 "nbformat": 4,
 "nbformat_minor": 4
}
